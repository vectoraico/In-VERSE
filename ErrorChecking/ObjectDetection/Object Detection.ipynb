{
 "cells": [
  {
   "cell_type": "code",
   "execution_count": 4,
   "id": "794339eb-ead6-4a83-8b95-4e6bf4267c65",
   "metadata": {},
   "outputs": [],
   "source": [
    "import cv2\n",
    "import numpy as np"
   ]
  },
  {
   "cell_type": "code",
   "execution_count": 5,
   "id": "f38cd4b5-4839-47f2-969e-67d05778ac3b",
   "metadata": {},
   "outputs": [],
   "source": [
    "#Laoding a YOLO v3 - Pretrained Model\n",
    "\n",
    "def reject_majority(image_path):\n",
    "    net = cv2.dnn.readNet(\"yolov3.weights\", \"yolov3.cfg\")\n",
    "    layer_names = net.getLayerNames()\n",
    "    output_layers = [layer_names[i - 1] for i in net.getUnconnectedOutLayers()]\n",
    "    \n",
    "    #loading names of the classes from Microsoft COCO Dataset\n",
    "    with open(\"coco.names\", \"r\") as f:\n",
    "        classes = [line.strip() for line in f]\n",
    "    \n",
    "    #Take the input image\n",
    "    image = cv2.imread(image_path)\n",
    "    height, width, _ = image.shape\n",
    "    total_area = height * width\n",
    "    \n",
    "    #Detectht the objects\n",
    "    blob = cv2.dnn.blobFromImage(image, 0.00392, (416, 416), (0, 0, 0), True, crop=False)\n",
    "    net.setInput(blob)\n",
    "    outs = net.forward(output_layers)\n",
    "    \n",
    "    flag = False\n",
    "    \n",
    "    for out in outs:\n",
    "        for detection in out:\n",
    "            scores = detection[5:]\n",
    "            class_id = np.argmax(scores)\n",
    "            confidence = scores[class_id]\n",
    "    \n",
    "            #Compute Area taken\n",
    "            if confidence > 0.5:\n",
    "                center_x = int(detection[0] * width)\n",
    "                center_y = int(detection[1] * height)\n",
    "                w = int(detection[2] * width)\n",
    "                h = int(detection[3] * height)\n",
    "                x = int(center_x - w / 2)\n",
    "                y = int(center_y - h / 2)\n",
    "                \n",
    "                area = w * h\n",
    "                \n",
    "                if area / total_area > 0.3:\n",
    "                    flag = True\n",
    "                    # cv2.rectangle(image, (x, y), (x + w, y + h), (255, 0, 0), 2)\n",
    "                    # cv2.putText(image, f\"{classes[class_id]} - {confidence:.2f}\", (x, y - 5),\n",
    "                    #             cv2.FONT_HERSHEY_SIMPLEX, 0.5, (255, 0, 0), 2)\n",
    "    \n",
    "    # # Display image with segmentation\n",
    "    # cv2.imshow(\"Image\", image)\n",
    "    # cv2.waitKey(0)\n",
    "    # cv2.destroyAllWindows()\n",
    "    \n",
    "    return not flag"
   ]
  },
  {
   "cell_type": "code",
   "execution_count": 7,
   "id": "3bbee866-7b2c-4b65-994a-4213865880f5",
   "metadata": {},
   "outputs": [
    {
     "data": {
      "text/plain": [
       "False"
      ]
     },
     "execution_count": 7,
     "metadata": {},
     "output_type": "execute_result"
    }
   ],
   "source": [
    "reject_majority(\"cat.jpg\")"
   ]
  },
  {
   "cell_type": "code",
   "execution_count": null,
   "id": "4647c8d4-5ec0-4a40-801a-71b4203915dc",
   "metadata": {},
   "outputs": [],
   "source": []
  }
 ],
 "metadata": {
  "kernelspec": {
   "display_name": "Python 3 (ipykernel)",
   "language": "python",
   "name": "python3"
  },
  "language_info": {
   "codemirror_mode": {
    "name": "ipython",
    "version": 3
   },
   "file_extension": ".py",
   "mimetype": "text/x-python",
   "name": "python",
   "nbconvert_exporter": "python",
   "pygments_lexer": "ipython3",
   "version": "3.10.4"
  }
 },
 "nbformat": 4,
 "nbformat_minor": 5
}

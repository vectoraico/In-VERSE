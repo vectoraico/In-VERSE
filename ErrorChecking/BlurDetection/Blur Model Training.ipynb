{
 "cells": [
  {
   "cell_type": "code",
   "execution_count": null,
   "id": "1b0c8dc5-dfc5-4855-a951-adc6232d3958",
   "metadata": {},
   "outputs": [],
   "source": [
    "import torch\n",
    "import torch.nn as nn\n",
    "import torch.optim as optim\n",
    "from torchvision import datasets, transforms, models\n",
    "from torch.utils.data import DataLoader\n",
    "import os\n",
    "import numpy as np"
   ]
  },
  {
   "cell_type": "code",
   "execution_count": 1,
   "id": "2d5d9099-74fc-468c-98f7-d81e411d83f2",
   "metadata": {},
   "outputs": [
    {
     "name": "stderr",
     "output_type": "stream",
     "text": [
      "C:\\Users\\Maaz Ali\\AppData\\Roaming\\Python\\Python310\\site-packages\\torchvision\\models\\_utils.py:208: UserWarning: The parameter 'pretrained' is deprecated since 0.13 and may be removed in the future, please use 'weights' instead.\n",
      "  warnings.warn(\n",
      "C:\\Users\\Maaz Ali\\AppData\\Roaming\\Python\\Python310\\site-packages\\torchvision\\models\\_utils.py:223: UserWarning: Arguments other than a weight enum or `None` for 'weights' are deprecated since 0.13 and may be removed in the future. The current behavior is equivalent to passing `weights=ResNet18_Weights.IMAGENET1K_V1`. You can also use `weights=ResNet18_Weights.DEFAULT` to get the most up-to-date weights.\n",
      "  warnings.warn(msg)\n"
     ]
    },
    {
     "name": "stdout",
     "output_type": "stream",
     "text": [
      "Epoch 1/10, Loss: 4.117355823516846, Accuracy: 0.34615384615384615\n",
      "Epoch 2/10, Loss: 2.6340746879577637, Accuracy: 0.4230769230769231\n",
      "Epoch 3/10, Loss: 1.694183588027954, Accuracy: 0.5384615384615384\n",
      "Epoch 4/10, Loss: 14.550994873046875, Accuracy: 0.2692307692307692\n",
      "Epoch 5/10, Loss: 3.1417717933654785, Accuracy: 0.5\n",
      "Epoch 6/10, Loss: 1.7035554647445679, Accuracy: 0.6153846153846154\n",
      "Epoch 7/10, Loss: 0.898887574672699, Accuracy: 0.6538461538461539\n",
      "Epoch 8/10, Loss: 0.7679473161697388, Accuracy: 0.6538461538461539\n",
      "Epoch 9/10, Loss: 1.342573881149292, Accuracy: 0.6538461538461539\n",
      "Epoch 10/10, Loss: 3.1368520259857178, Accuracy: 0.38461538461538464\n",
      "Test Loss: 3.028779112774393, Test Accuracy: 0.49320652173913043\n"
     ]
    }
   ],
   "source": [
    "#Extracting Features using a Pre-Trained ResNet Model\n",
    "class FeatureExtractor(nn.Module):\n",
    "    def __init__(self):\n",
    "        super(FeatureExtractor, self).__init__()\n",
    "        self.resnet = models.resnet18(pretrained=True)\n",
    "        self.resnet.fc = nn.Identity()  # Remove the final fully connected layer\n",
    "\n",
    "    def forward(self, x):\n",
    "        return self.resnet(x)\n",
    "\n",
    "#Setting up a shallow Fully Connected Classifier\n",
    "class Classifier(nn.Module):\n",
    "    def __init__(self, input_size, num_classes):\n",
    "        super(Classifier, self).__init__()\n",
    "        self.fc1 = nn.Linear(input_size, 128)\n",
    "        self.fc2 = nn.Linear(128, num_classes)\n",
    "\n",
    "    def forward(self, x):\n",
    "        x = torch.flatten(x, 1)  # Flatten the features\n",
    "        x = nn.functional.relu(self.fc1(x))\n",
    "        x = self.fc2(x)\n",
    "        return x\n",
    "\n",
    "#Defining the Data Trasnformations\n",
    "transform = transforms.Compose([\n",
    "    transforms.Resize((224, 224)),\n",
    "    transforms.ToTensor(),\n",
    "])\n",
    "\n",
    "dataset_root = 'blur_dataset_scaled/'\n",
    "dataset = datasets.ImageFolder(dataset_root, transform=transform)\n",
    "num_samples = len(dataset)\n",
    "\n",
    "#Data Set Split is 275 for Train, 25 for Validation, 50 for test\n",
    "indices = list(range(num_samples))\n",
    "np.random.shuffle(indices)\n",
    "split1 = int(0.275 * num_samples)\n",
    "split2 = int(0.025 * num_samples)\n",
    "\n",
    "train_indices = indices[:split1]\n",
    "val_indices = indices[split1:split1+split2]\n",
    "test_indices = indices[split1+split2:]\n",
    "\n",
    "train_dataset = torch.utils.data.Subset(dataset, train_indices)\n",
    "val_dataset = torch.utils.data.Subset(dataset, val_indices)\n",
    "test_dataset = torch.utils.data.Subset(dataset, test_indices)\n",
    "\n",
    "#Data Loader & Feature Extraction usage\n",
    "train_loader = DataLoader(train_dataset, batch_size=32, shuffle=True)\n",
    "val_loader = DataLoader(val_dataset, batch_size=32, shuffle=False)\n",
    "test_loader = DataLoader(test_dataset, batch_size=32, shuffle=False)\n",
    "\n",
    "feature_extractor = FeatureExtractor()\n",
    "classifier = Classifier(512, 3)  # ResNet18 has 512 output features\n",
    "model = nn.Sequential(feature_extractor, classifier)\n",
    "\n",
    "criterion = nn.CrossEntropyLoss()\n",
    "optimizer = optim.Adam(model.parameters(), lr=0.001)\n",
    "\n",
    "#model Training Loop (uasing the parameters set)\n",
    "num_epochs = 10\n",
    "for epoch in range(num_epochs):\n",
    "    model.train()\n",
    "    for images, labels in train_loader:\n",
    "        optimizer.zero_grad()\n",
    "        features = feature_extractor(images)\n",
    "        outputs = classifier(features)\n",
    "        loss = criterion(outputs, labels)\n",
    "        loss.backward()\n",
    "        optimizer.step()\n",
    "\n",
    "    #Epoch-wise Evaluation\n",
    "    model.eval()\n",
    "    with torch.no_grad():\n",
    "        val_loss = 0.0\n",
    "        correct = 0\n",
    "        total = 0\n",
    "        for images, labels in val_loader:\n",
    "            features = feature_extractor(images)\n",
    "            outputs = classifier(features)\n",
    "            val_loss += criterion(outputs, labels).item()\n",
    "            _, predicted = torch.max(outputs.data, 1)\n",
    "            total += labels.size(0)\n",
    "            correct += (predicted == labels).sum().item()\n",
    "\n",
    "    print(f\"Epoch {epoch+1}/{num_epochs}, Loss: {val_loss/len(val_loader)}, Accuracy: {correct/total}\")\n",
    "\n",
    "\n",
    "#Evaluating the model - Post Training with 10 Epochs\n",
    "model.eval()\n",
    "with torch.no_grad():\n",
    "    test_loss = 0.0\n",
    "    correct = 0\n",
    "    total = 0\n",
    "    for images, labels in test_loader:\n",
    "        features = feature_extractor(images)\n",
    "        outputs = classifier(features)\n",
    "        test_loss += criterion(outputs, labels).item()\n",
    "        _, predicted = torch.max(outputs.data, 1)\n",
    "        total += labels.size(0)\n",
    "        correct += (predicted == labels).sum().item()\n",
    "\n",
    "print(f\"Test Loss: {test_loss/len(test_loader)}, Test Accuracy: {correct/total}\")\n",
    "\n",
    "# Save the model\n",
    "torch.save(model.state_dict(), 'model.pth')"
   ]
  },
  {
   "cell_type": "code",
   "execution_count": 2,
   "id": "cfca9bd3-7928-4557-bd33-f584c56490d2",
   "metadata": {},
   "outputs": [],
   "source": [
    "#Defining an Inference Function\n",
    "def classify_image(image_path, model):\n",
    "    transform = transforms.Compose([\n",
    "        transforms.Resize((224, 224)),\n",
    "        transforms.ToTensor(),\n",
    "    ])\n",
    "    image = transform(Image.open(image_path)).unsqueeze(0)\n",
    "    features = feature_extractor(image)\n",
    "    outputs = classifier(features)\n",
    "    _, predicted = torch.max(outputs.data, 1)\n",
    "    return predicted.item()"
   ]
  },
  {
   "cell_type": "code",
   "execution_count": 6,
   "id": "ac30a49c-2ea2-48af-b804-74f091fb3427",
   "metadata": {},
   "outputs": [
    {
     "name": "stdout",
     "output_type": "stream",
     "text": [
      "sharp\n"
     ]
    }
   ],
   "source": [
    "from PIL import Image\n",
    "category = {0: \"blur\", 1:\"blur\", 2:\"sharp\"}\n",
    "image_path = 'img2.jpeg'\n",
    "model.load_state_dict(torch.load('model.pth'))\n",
    "model.eval()\n",
    "class_index = classify_image(image_path, model)\n",
    "print(category[class_index])"
   ]
  },
  {
   "cell_type": "code",
   "execution_count": null,
   "id": "8e9120d6-0dec-4821-8c9c-577946461fb3",
   "metadata": {},
   "outputs": [],
   "source": []
  }
 ],
 "metadata": {
  "kernelspec": {
   "display_name": "Python 3 (ipykernel)",
   "language": "python",
   "name": "python3"
  },
  "language_info": {
   "codemirror_mode": {
    "name": "ipython",
    "version": 3
   },
   "file_extension": ".py",
   "mimetype": "text/x-python",
   "name": "python",
   "nbconvert_exporter": "python",
   "pygments_lexer": "ipython3",
   "version": "3.10.4"
  }
 },
 "nbformat": 4,
 "nbformat_minor": 5
}
